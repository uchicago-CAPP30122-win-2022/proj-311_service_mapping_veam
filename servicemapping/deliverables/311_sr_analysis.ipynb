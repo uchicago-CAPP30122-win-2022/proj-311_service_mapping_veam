{
 "cells": [
  {
   "cell_type": "markdown",
   "id": "59c8fbcb",
   "metadata": {},
   "source": [
    "# 311 Data Exploration and Analysis"
   ]
  },
  {
   "cell_type": "code",
   "execution_count": 1,
   "id": "2f3ccfda",
   "metadata": {},
   "outputs": [],
   "source": [
    "import pandas as pd\n",
    "from sodapy import Socrata\n",
    "import numpy as np\n",
    "import datetime\n",
    "from datetime import date\n",
    "pd.set_option('display.max_rows', 1000)\n",
    "pd.options.display.max_columns = None"
   ]
  },
  {
   "cell_type": "code",
   "execution_count": 2,
   "id": "86bd8cb9",
   "metadata": {},
   "outputs": [],
   "source": [
    "socrata_domain = \"data.cityofchicago.org\"\n",
    "socrata_dataset_identifier = \"v6vf-nfxy\"\n",
    "app_token = \"6tRoBirkYQMdr8MMFR8FzgBXq\"\n",
    "api_username = \"v4vigtory@gmail.com\"\n",
    "api_password = \"311_TeamVeam\""
   ]
  },
  {
   "cell_type": "code",
   "execution_count": 3,
   "id": "bf01393b",
   "metadata": {},
   "outputs": [],
   "source": [
    "client = Socrata(socrata_domain, app_token, username=api_username, password=api_password)"
   ]
  },
  {
   "cell_type": "markdown",
   "id": "4c95bca0",
   "metadata": {},
   "source": [
    "### Adding Data from 2019~2021"
   ]
  },
  {
   "cell_type": "code",
   "execution_count": 4,
   "id": "7a0aeba4",
   "metadata": {},
   "outputs": [],
   "source": [
    "sr_2021 = client.get(socrata_dataset_identifier,\n",
    "                     select = \"sr_number, sr_type, sr_short_code, owner_department, status, created_date, closed_date, date_extract_y(created_date) as year, street_address, city, state, zip_code, community_area, location\",\n",
    "                     where = \"date_extract_y(created_date) = 2021 AND community_area IS NOT NULL AND sr_type NOT IN ('311 INFORMATION ONLY CALL', 'Aircraft Noise Complaint')\", \n",
    "                     limit = 1000000)\n",
    "sr_2021_df = pd.DataFrame(sr_2021)"
   ]
  },
  {
   "cell_type": "code",
   "execution_count": 5,
   "id": "af89b44e",
   "metadata": {},
   "outputs": [],
   "source": [
    "sr_2020 = client.get(socrata_dataset_identifier,\n",
    "                     select = \"sr_number, sr_type, sr_short_code, owner_department, status, created_date, closed_date, date_extract_y(created_date) as year, street_address, city, state, zip_code, community_area, location\",\n",
    "                     where = \"date_extract_y(created_date) = 2020 AND community_area IS NOT NULL AND sr_type NOT IN ('311 INFORMATION ONLY CALL', 'Aircraft Noise Complaint')\", \n",
    "                     limit = 1000000)\n",
    "sr_2020_df = pd.DataFrame(sr_2020)"
   ]
  },
  {
   "cell_type": "code",
   "execution_count": 6,
   "id": "98e85bc8",
   "metadata": {},
   "outputs": [],
   "source": [
    "sr_2019 = client.get(socrata_dataset_identifier,\n",
    "                     select = \"sr_number, sr_type, sr_short_code, owner_department, status, created_date, closed_date, date_extract_y(created_date) as year, street_address, city, state, zip_code, community_area, location\",\n",
    "                     where = \"date_extract_y(created_date) = 2019 AND community_area IS NOT NULL AND sr_type NOT IN ('311 INFORMATION ONLY CALL', 'Aircraft Noise Complaint')\", \n",
    "                     limit = 1000000)\n",
    "sr_2019_df = pd.DataFrame(sr_2019)"
   ]
  },
  {
   "cell_type": "code",
   "execution_count": 7,
   "id": "2150d497",
   "metadata": {},
   "outputs": [],
   "source": [
    "sr_2019_21_df = pd.concat([sr_2021_df,sr_2020_df,sr_2019_df])"
   ]
  },
  {
   "cell_type": "code",
   "execution_count": 9,
   "id": "4f82c0a0",
   "metadata": {},
   "outputs": [
    {
     "data": {
      "text/plain": [
       "(2415606, 14)"
      ]
     },
     "execution_count": 9,
     "metadata": {},
     "output_type": "execute_result"
    }
   ],
   "source": [
    "sr_2019_21_df.shape"
   ]
  },
  {
   "cell_type": "markdown",
   "id": "58c74750",
   "metadata": {},
   "source": [
    "### Findings from Exploratory Analysis (List of Assumptions / Things to Note)\n",
    "- Got rid of two specific service request types (sr_type)\n",
    "    - 311 Informational Calls: this is a 311 Call Center. These requests are informational not relevant to our analysis.\n",
    "    - aircraft noise complaint: this maps to the Aviation Administration building, and exclusively deals with aircraft noise complaints. This is either geo-tagged to a single building and doesn't provide required variation across neighborhoods or are all completed within 0.01667 minutes. \n",
    "\n",
    "\n",
    "- The data will look like service requests for 2019 have a higher closed ratio than requests in 2021. \n",
    "    - max resolution time is around ~3 years \n",
    "    - many of these long-tailed requests are restaurant/health-related complaints\n",
    "    - 17 rows of 3+ years \n",
    "    - 2382 rows of 2+ years data \n",
    "    - 35121 rows of 1+ years data (~1.4% of total data)\n",
    "    \n",
    "    \n",
    "- Removed rows where request_closed_date - request_created_date (diff_min) was <= 0. Below are the service request types associated with diff_min < 0.\n",
    "    - Vehicle Parked in Bike Lane Complaint    3286\n",
    "    - E-Scooter                                 455\n",
    "    - Extreme Weather Notification               25\n",
    "    - Graffiti Removal Request                    1"
   ]
  },
  {
   "cell_type": "markdown",
   "id": "8528394b",
   "metadata": {},
   "source": [
    "### Creating Flags"
   ]
  },
  {
   "cell_type": "code",
   "execution_count": 29,
   "id": "8ea77c91",
   "metadata": {},
   "outputs": [],
   "source": [
    "df = sr_2019_21_df.copy()"
   ]
  },
  {
   "cell_type": "code",
   "execution_count": 31,
   "id": "a12f6ac6",
   "metadata": {},
   "outputs": [],
   "source": [
    "# resol_time\n",
    "df['diff_mins'] = (pd.to_datetime(df['closed_date']) - pd.to_datetime(df['created_date']))/np.timedelta64(1,'m')\n",
    "\n",
    "# time_open_not_resolved\n",
    "df['time_open_unresolved'] = np.where((df['diff_mins'].isna()),1, 0)"
   ]
  },
  {
   "cell_type": "code",
   "execution_count": 33,
   "id": "6ce97cba",
   "metadata": {},
   "outputs": [],
   "source": [
    "df = df[(df.diff_mins > 0) | (df.time_open_unresolved == 1)]"
   ]
  },
  {
   "cell_type": "code",
   "execution_count": 34,
   "id": "4a252cf0",
   "metadata": {},
   "outputs": [],
   "source": [
    "# time_open_less_than_1_min\n",
    "df['time_open_less_than_1_min'] = np.where(df['diff_mins'] < 1, 1, 0)\n",
    "\n",
    "# time_open_1_min_1_hr\n",
    "df['time_open_1_min_1_hr'] = np.where((df['diff_mins'] >= 1) & (df['diff_mins'] < 60), 1, 0)\n",
    "\n",
    "# time_open_1_hr_12_hr\n",
    "df['time_open_1_hr_12_hr'] = np.where((df['diff_mins'] >= 60) & (df['diff_mins'] < 60*12), 1, 0)\n",
    "\n",
    "# time_open_12_24_hr\n",
    "df['time_open_12_24_hr'] = np.where((df['diff_mins'] >= 60*12) & (df['diff_mins'] < 60*24), 1, 0)\n",
    "\n",
    "# time_open_1_3_day\n",
    "df['time_open_1_3_day'] = np.where((df['diff_mins'] >= 60*24*1) & (df['diff_mins'] < 60*24*3), 1, 0)\n",
    "\n",
    "# time_open_3_7_day\n",
    "df['time_open_3_7_day'] = np.where((df['diff_mins'] >= 60*24*3) & (df['diff_mins'] < 60*24*7), 1, 0)\n",
    "\n",
    "# time_open_7_14_day\n",
    "df['time_open_7_14_day'] = np.where((df['diff_mins'] >= 60*24*7) & (df['diff_mins'] < 60*24*14), 1, 0)\n",
    "\n",
    "# time_open_14_30_day\n",
    "df['time_open_14_30_day'] = np.where((df['diff_mins'] >= 60*24*14) & (df['diff_mins'] < 60*24*30), 1, 0)\n",
    "\n",
    "# time_open_1_3_month\n",
    "df['time_open_1_3_month'] = np.where((df['diff_mins'] >= 60*24*30*1) & (df['diff_mins'] < 60*24*30*3), 1, 0)\n",
    "\n",
    "# time_open_3_12_month\n",
    "df['time_open_3_12_month'] = np.where((df['diff_mins'] >= 60*24*30*3) & (df['diff_mins'] < 60*24*30*12), 1, 0)\n",
    "\n",
    "# time_open_1_year_plus\n",
    "df['time_open_1_year_plus'] = np.where((df['diff_mins'] >= 60*24*30*12),1, 0)\n",
    "\n",
    "# code snippet\n",
    "#df.filter(regex=\"time_open_\", axis = 1).sum()"
   ]
  },
  {
   "cell_type": "markdown",
   "id": "c4c1472f",
   "metadata": {},
   "source": [
    "## Data Analysis Portion Left to Do"
   ]
  },
  {
   "cell_type": "code",
   "execution_count": 86,
   "id": "2d65ebff",
   "metadata": {},
   "outputs": [
    {
     "data": {
      "text/plain": [
       "nan"
      ]
     },
     "execution_count": 86,
     "metadata": {},
     "output_type": "execute_result"
    }
   ],
   "source": [
    "# THINGS TO DO FOR ANALYSIS AFTER CREATING DASH \n",
    "\n",
    "# spread of service request types \n",
    "# unresolved across neighborhoods\n",
    "# .corr grid for analysis "
   ]
  },
  {
   "cell_type": "markdown",
   "id": "03b500a3",
   "metadata": {},
   "source": [
    "## Analysis of Unresolved Requests"
   ]
  },
  {
   "cell_type": "code",
   "execution_count": 34,
   "id": "11ebf827",
   "metadata": {},
   "outputs": [],
   "source": [
    "# create column 'time_open'\n",
    "df['time_open'] = ((pd.to_datetime(\"today\")) - pd.to_datetime(df['created_date']))/np.timedelta64(1,'m')"
   ]
  },
  {
   "cell_type": "code",
   "execution_count": null,
   "id": "c5d01a86",
   "metadata": {},
   "outputs": [],
   "source": [
    "# count of unresolved across community areas\n",
    "community_area"
   ]
  }
 ],
 "metadata": {
  "kernelspec": {
   "display_name": "Python 3 (ipykernel)",
   "language": "python",
   "name": "python3"
  },
  "language_info": {
   "codemirror_mode": {
    "name": "ipython",
    "version": 3
   },
   "file_extension": ".py",
   "mimetype": "text/x-python",
   "name": "python",
   "nbconvert_exporter": "python",
   "pygments_lexer": "ipython3",
   "version": "3.9.7"
  }
 },
 "nbformat": 4,
 "nbformat_minor": 5
}
